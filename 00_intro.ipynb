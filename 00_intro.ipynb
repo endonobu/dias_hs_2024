{
 "cells": [
  {
   "cell_type": "markdown",
   "id": "5aff30ff-2dcd-484d-9a81-58a63f431f4f",
   "metadata": {},
   "source": [
    "# はじめに\n",
    "\n",
    "本ハンズオンセミナーでは、[気候予測データセット2022](https://diasjp.net/ds2022/)の\n",
    "一部として公開された「全球150年連続実験データ」ならびに「日本域海洋予測データ」を対象として、\n",
    "DIASに構築されたJupyter環境でデータを取り扱う。\n",
    "\n",
    "さて、Jupyter環境ではプログラミング言語Pythonを用いる。\n",
    "Pythonはインタープリタ型の汎用プログラミング言語である。\n",
    "近年、気象学・海洋学・気候学の分野でよく用いられるデータのフォーマットの読み書きを\n",
    "担うライブラリや解析に用いるライブラリの開発が進展し、\n",
    "それを受けて利用者が増加している。\n",
    "\n",
    "[結合モデル相互比較計画（WCRP Coupled Model Intercomparison Project: CMIP）](https://www.wcrp-climate.org)\n",
    "に参加してる気候モデルのシミュレーション結果は「netcdf」というファイルフォーマットで提出されている。\n",
    "netcdf形式のファイルを処理するためのライブラリ\n",
    "[xarray](https://github.com/pydata/xarray)\n",
    "の開発が活発に行われ、xarrayを基盤とした各種のライブラリの開発も進行している。\n",
    "例えば米国のLawrence Livermore National Laboratoryでpythonを用いて開発されていた\n",
    "[Community Data Analysis Tools (CDAT)](https://cdat.llnl.gov/)\n",
    "は、xarrayを基盤とした\n",
    "[Xarray Climate Data Analysis Tools (xCDAT)](https://github.com/xCDAT/xcdat)\n",
    "に移行した。\n",
    "また米国のNational Center for Atmospheric Researchは長らく\n",
    "[NCAR Comand Language](https://ncl.ucar.edu/)\n",
    "という\"NCAR Graphics\"を可視化の基盤とし、プログラミング言語としては\"Fortran\"的な文法をもつ\n",
    "気候・気象データ解析ツールの開発を行ってきたが、\n",
    "2019年にpythonを用いたツールの開発に注力することを発表した。\n",
    "NCARで開発される新しいツールは\n",
    "[Geoscience Community Analysis Toolkit (GeoCAT)](https://geocat.ucar.edu)\n",
    "とよび、やはりXarrayを基盤としたライブラリである。\n",
    "\n",
    "他方で、[英国気象局や協力者たち](https://scitools.ogr.uk) が開発をしている\n",
    "気候データ解析に用いられるのライブラリとして、\n",
    "[Iris](https://scitools-iris.readthedocs.io/en/stable) がある。\n",
    "また同じグループはこのワークショップでも用いる\n",
    "[Cartopy](https://scitools.org.uk/cartopy/docs/latest/)\n",
    "という地図情報などを処理するライブラリを開発している。\n",
    "\n",
    "さらにバイナリー形式でベタ書きであるいわゆる「GrADS形式」と言われる\n",
    "フォーマットのデータを読み込みxarray形式に変換する\n",
    "[xgrads](https://github.com/miniufo/xgrads)というライブラリも出現している。\n",
    "\n",
    "このハンズオンセミナーでは、\n",
    "Pythonと気候学関係のデータ処理・可視化によく用いられるライブラリ群を紹介し、\n",
    "気象庁等が公開しているデータを用いて実際にデータの統計的処理を行い、\n",
    "可視化を行う。"
   ]
  },
  {
   "cell_type": "markdown",
   "id": "8294c60c-d0e3-40ca-80e3-9467c9c19cb3",
   "metadata": {},
   "source": [
    "## PythonとJupyterについて参考となるウェブサイト\n",
    "\n",
    "このハンズオンセミナーでは、Jupyter環境でPythonのプログラムを書いて、\n",
    "プログラムの実行を行う。\n",
    "PythonやJupyter環境にあまり触れたことがない場合、以下のウェブサイトが参考になる。\n",
    "\n",
    "* Jupyter Notebookの使い方\n",
    "  * [ノートブックの作成とPythonプログラムの実行](https://www.javadrive.jp/python/jupyter-notebook/index3.html)\n",
    "  * [Jupyter Notebookの基本操作とショートカットキー](https://www.javadrive.jp/python/jupyter-notebook/index5.html)\n",
    "  * [Markdownセルを使ってテキストを表示する](https://www.javadrive.jp/python/jupyter-notebook/index4.html)\n",
    "  * [ノートブックをHTMLファイルやPDFファイルとして保存する](https://www.javadrive.jp/python/jupyter-notebook/index6.html)\n",
    "* PythonエンジニアによるPython3学習サイト\n",
    "  * [Python入門](https://www.python.ambitious-engineer.com/introduction-index)\n",
    "  * [Numpy入門](https://www.python.ambitious-engineer.com/numpy-index)\n",
    "  * [pandas入門](https://www.python.ambitious-engineer.com/pandas-index)\n",
    "  * [matplotlib入門](https://www.python.ambitious-engineer.com/application#matplotlib)\n",
    "* [note.nkmk.me](https://note.nkmk.me/)\n",
    "　Pythonの様々な機能の働きを丁寧に解説している。\n",
    "* [Project Pythia](https://projectpythia.org/)\n",
    "　英語で書かれているが、さまざまな内容が記載されている。\n",
    "* [気象データ解析のためのmatplotlibの使い方](https://yyousuke.github.io/matplotlib/index.html)\n",
    "　国立環境研究所の山下陽介さんによるmatplotlibの解説。"
   ]
  },
  {
   "cell_type": "markdown",
   "id": "9fc8bd3f-627a-4b63-b757-c7c6d092a67b",
   "metadata": {},
   "source": [
    "## Pythonとnumpy/pandasを学ぶ際に参考となる書籍\n",
    "\n",
    "* Wes McKinney 著、瀬戸山雅人、小林儀匡 訳「[Pythonによるデータ分析入門 ―pandas、NumPy、Jupyterを使ったデータ処理](https://www.oreilly.co.jp/books/9784814400195/)」\n",
    "* Jake VanderPlas 著、菊池彰 訳 「[Pythonデータサイエンスハンドブック ―Jupyter、NumPy、pandas、Matplotlib、scikit-learnを使ったデータ分析、機械学習](https://www.oreilly.co.jp/books/9784814400638/)」\n",
    "* Daniel Y. Chen 著、吉川邦夫 訳、福島真太朗 監訳「[pandasライブラリ活用入門](https://book.impress.co.jp/books/1122101167)」\n",
    "* 池内孝啓，片柳薫子，@driller 著「[改訂版 Pythonユーザのための Jupyter［実践］入門](https://gihyo.jp/book/2020/978-4-297-11568-5)」"
   ]
  },
  {
   "cell_type": "markdown",
   "id": "11ae6c99-d4d4-4c1e-a1cb-8b0550e67c4f",
   "metadata": {},
   "source": [
    "## Pythonを用いた気象学・海洋学・気候学のデータ解析手法の書籍\n",
    "\n",
    "* 神山翼 著「Pythonによる気象・気候データ解析Ⅰ ―Pythonの基礎・気候値と偏差・回帰相関分析―」\n",
    "* 神山翼 著「Pythonによる気象・気候データ解析Ⅱ ―スペクトル解析・EOFとSVD・統計検定と推定―」"
   ]
  },
  {
   "cell_type": "markdown",
   "id": "89995299",
   "metadata": {},
   "source": [
    "## miniforgeを利用した解析環境の構築\n",
    "\n",
    "ユーザーの手元のコンピューターに気候データの解析環境を\n",
    "[miniforge](https://github.com/conda-forge/miniforge/)\n",
    "を用いて構築する手順を以下に記す。\n",
    "\n",
    "コンピュータのOSが\n",
    "Linuxの場合は\"Miniforge3-Linux-x86_64.sh\"を\n",
    "appleシリコンなmacosの場合は\"Miniforge3-MacOSX-arm64.sh\"を\n",
    "ダウンロードする。\n",
    "ところで、WindowsがOSの場合は、WSL2でLinux環境を作成して、\n",
    "\"Miniforge3-Linux-x86_64.sh\"を用いて環境を構築することをすすめる。\n",
    "\n",
    "```\n",
    "$ bash ./Miniforge3-Linux-x86_64.sh\n",
    "$ conda create -n xa python=3.12\n",
    "$ conda activate xa\n",
    "$ mamba install scipy numpy pandas matplotlib seaborn cartopy\n",
    "$ mamba install jupyterlab notebook\n",
    "$ mamba install numba dask pooch sparse netcdf4 xarray\n",
    "$ mamab install cf_xarray nc-time-axis cfgrib\n",
    "$ mamba install xcdat xesmf\n",
    "```\n"
   ]
  },
  {
   "cell_type": "markdown",
   "id": "abed3730",
   "metadata": {},
   "source": [
    "jupyter環境を起動するには、\n",
    "```\n",
    "jupyter lab\n",
    "```\n",
    "とすれば良い。"
   ]
  }
 ],
 "metadata": {
  "kernelspec": {
   "display_name": "xa",
   "language": "python",
   "name": "python3"
  },
  "language_info": {
   "codemirror_mode": {
    "name": "ipython",
    "version": 3
   },
   "file_extension": ".py",
   "mimetype": "text/x-python",
   "name": "python",
   "nbconvert_exporter": "python",
   "pygments_lexer": "ipython3",
   "version": "3.12.7"
  }
 },
 "nbformat": 4,
 "nbformat_minor": 5
}
