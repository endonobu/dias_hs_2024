{
 "cells": [
  {
   "cell_type": "markdown",
   "id": "a6691ae7-27ce-427d-b15b-4b3afc5dd272",
   "metadata": {},
   "source": [
    "# JupyterLabでのノートブックの利用\n",
    "\n",
    "webブラウザで[Jupyter環境のwebページ](https://osdp.diasjp.net/django/home/)にアクセスする。\n"
   ]
  },
  {
   "cell_type": "markdown",
   "id": "3d235328",
   "metadata": {},
   "source": [
    "<img src='1.png'>"
   ]
  },
  {
   "cell_type": "markdown",
   "id": "ad73ca5d",
   "metadata": {},
   "source": [
    "ユーザー名とパスワードを入力すると JupyterLab が次のように表示されます。"
   ]
  },
  {
   "attachments": {},
   "cell_type": "markdown",
   "id": "cb8096ff",
   "metadata": {},
   "source": [
    "<img src='2.png'>"
   ]
  },
  {
   "cell_type": "markdown",
   "id": "35b5328a",
   "metadata": {},
   "source": [
    "新しいノートブックを作成するために「Notebook」の「Python3」というアイコンを押します。"
   ]
  },
  {
   "attachments": {},
   "cell_type": "markdown",
   "id": "5488d507",
   "metadata": {},
   "source": [
    "<img src='3.png'>"
   ]
  },
  {
   "cell_type": "markdown",
   "id": "3de9c4a0",
   "metadata": {},
   "source": [
    "青い枠で表示された部分をセルと呼びます。ここにpythonのコードを書いてゆきます。\n",
    "まず \"print('Hello')\" とうちこみ、[shift]+[Enter] キーを押します。するとコードが実行されます。"
   ]
  },
  {
   "attachments": {},
   "cell_type": "markdown",
   "id": "7894ad7e",
   "metadata": {},
   "source": [
    "<img src='4.png'>"
   ]
  },
  {
   "cell_type": "markdown",
   "id": "108b2127",
   "metadata": {},
   "source": [
    "コードが実行されると、下側に青い枠で囲われたセルが現れます。そのセルにコードを書いてみましょう。"
   ]
  },
  {
   "attachments": {},
   "cell_type": "markdown",
   "id": "b48414db",
   "metadata": {},
   "source": [
    "<img src='5.png'>"
   ]
  },
  {
   "cell_type": "markdown",
   "id": "4f41c914",
   "metadata": {},
   "source": [
    "コードを書いたら、[shift]+[Enter]キーを押しましょう。"
   ]
  },
  {
   "attachments": {},
   "cell_type": "markdown",
   "id": "dc061b8b",
   "metadata": {},
   "source": [
    "<img src='6.png'>"
   ]
  },
  {
   "cell_type": "markdown",
   "id": "d96bd914",
   "metadata": {},
   "source": [
    "また、上の例ではツールバーで「Code」となっていますが、マウスで「Code」となっているドロップダウンメニューをクリックし「Markdown」を選びます。するとセルが「Markdown」モードになります。セルの左に「[ ]: 」という表示がなくなります。"
   ]
  },
  {
   "attachments": {},
   "cell_type": "markdown",
   "id": "2acddc52",
   "metadata": {},
   "source": [
    "<img src='7.png'>"
   ]
  },
  {
   "cell_type": "markdown",
   "id": "665cb357",
   "metadata": {},
   "source": [
    "なお、キーボードで「M」を押しても「Markdown」モードになります。\n",
    "\n",
    "Markdown モードとなっているセルに、メモを書いてみましょう。"
   ]
  },
  {
   "attachments": {},
   "cell_type": "markdown",
   "id": "8d5b3947",
   "metadata": {},
   "source": [
    "<img src='8.png'>"
   ]
  },
  {
   "cell_type": "markdown",
   "id": "6104890e",
   "metadata": {},
   "source": [
    "メモを書き込んだら、[shift]+[Enter]を押して、レンダリングしてみましょう。"
   ]
  },
  {
   "attachments": {},
   "cell_type": "markdown",
   "id": "776c9045",
   "metadata": {},
   "source": [
    "<img src='9.png'>"
   ]
  },
  {
   "cell_type": "markdown",
   "id": "98d00453",
   "metadata": {},
   "source": [
    "ノートブックを保存するには、ツールバーの「ファイル(File)」のドロップダウンメニューを開いて、「名前をつけて保存(Save Notebook As または Save File As) 」を選択します。"
   ]
  },
  {
   "cell_type": "code",
   "execution_count": null,
   "id": "430bf737",
   "metadata": {},
   "outputs": [],
   "source": []
  },
  {
   "attachments": {},
   "cell_type": "markdown",
   "id": "c97b915a",
   "metadata": {},
   "source": [
    "<img src='10.png'>"
   ]
  },
  {
   "cell_type": "markdown",
   "id": "2f7c2cb6-9fa9-4f0c-89b6-00fa4a2af95e",
   "metadata": {},
   "source": [
    "なお、matplotlibを用いた作図をする際には、\n",
    "matplotlib関連のコードは一つのセルにまとめて書くこと。"
   ]
  },
  {
   "cell_type": "code",
   "execution_count": null,
   "id": "9b99efad-ade8-4553-a1f1-600db348af62",
   "metadata": {},
   "outputs": [],
   "source": []
  }
 ],
 "metadata": {
  "kernelspec": {
   "display_name": "xa",
   "language": "python",
   "name": "python3"
  },
  "language_info": {
   "codemirror_mode": {
    "name": "ipython",
    "version": 3
   },
   "file_extension": ".py",
   "mimetype": "text/x-python",
   "name": "python",
   "nbconvert_exporter": "python",
   "pygments_lexer": "ipython3",
   "version": "3.12.7"
  }
 },
 "nbformat": 4,
 "nbformat_minor": 5
}
